{
 "cells": [
  {
   "cell_type": "code",
   "execution_count": 7,
   "id": "1f359985",
   "metadata": {},
   "outputs": [],
   "source": [
    "import numpy as np\n",
    "from mp_api.client import MPRester\n",
    "from pymatgen.core.operations import SymmOp\n",
    "from pymatgen.symmetry.analyzer import SpacegroupAnalyzer\n",
    "from pymatgen.electronic_structure.plotter import BSPlotter\n",
    "from pymatgen.phonon.plotter import PhononBSPlotter\n",
    "from jupyter_jsmol.pymatgen import quick_view\n",
    "from lmapr1492 import plot_brillouin_zone, get_plot_bs, get_plot_dos, get_plot_bs_and_dos, get_branch_wavevectors\n",
    "from plotly.subplots import make_subplots\n",
    "import plotly.graph_objects as go"
   ]
  },
  {
   "cell_type": "code",
   "execution_count": 8,
   "id": "aed15ec1",
   "metadata": {},
   "outputs": [],
   "source": [
    "mp_key = \"YGuF6wLUiS0cPBcPVPZQwERRrYM11mh7\"\n",
    "mp_id = \"mp-22003\""
   ]
  },
  {
   "cell_type": "code",
   "execution_count": 9,
   "id": "a3506d4d",
   "metadata": {},
   "outputs": [
    {
     "data": {
      "application/vnd.jupyter.widget-view+json": {
       "model_id": "c5b70830a11c4265a25ddf0fadc06715",
       "version_major": 2,
       "version_minor": 0
      },
      "text/plain": [
       "Retrieving MaterialsDoc documents:   0%|          | 0/1 [00:00<?, ?it/s]"
      ]
     },
     "metadata": {},
     "output_type": "display_data"
    },
    {
     "data": {
      "application/vnd.jupyter.widget-view+json": {
       "model_id": "ad6a4cb05764452bae87f03bf9fb12b0",
       "version_major": 2,
       "version_minor": 0
      },
      "text/plain": [
       "Retrieving ElectronicStructureDoc documents:   0%|          | 0/1 [00:00<?, ?it/s]"
      ]
     },
     "metadata": {},
     "output_type": "display_data"
    },
    {
     "data": {
      "application/vnd.jupyter.widget-view+json": {
       "model_id": "468668953479406abfe0e497c1242c56",
       "version_major": 2,
       "version_minor": 0
      },
      "text/plain": [
       "Retrieving ElectronicStructureDoc documents:   0%|          | 0/1 [00:00<?, ?it/s]"
      ]
     },
     "metadata": {},
     "output_type": "display_data"
    },
    {
     "data": {
      "application/vnd.jupyter.widget-view+json": {
       "model_id": "1b844df6a7b247fc88cf22cb5e947ca3",
       "version_major": 2,
       "version_minor": 0
      },
      "text/plain": [
       "Retrieving PhononBSDOSDoc documents:   0%|          | 0/1 [00:00<?, ?it/s]"
      ]
     },
     "metadata": {},
     "output_type": "display_data"
    },
    {
     "data": {
      "application/vnd.jupyter.widget-view+json": {
       "model_id": "779c97a59ab746d7ac7dd5343349973c",
       "version_major": 2,
       "version_minor": 0
      },
      "text/plain": [
       "Retrieving PhononBSDOSDoc documents:   0%|          | 0/1 [00:00<?, ?it/s]"
      ]
     },
     "metadata": {},
     "output_type": "display_data"
    }
   ],
   "source": [
    "with MPRester(mp_key) as m:\n",
    "    structure = m.get_structure_by_material_id(mp_id)\n",
    "    el_bs = m.get_bandstructure_by_material_id(mp_id)\n",
    "    el_dos = m.get_dos_by_material_id(mp_id)\n",
    "    ph_bs = m.get_phonon_bandstructure_by_material_id(mp_id)\n",
    "    ph_dos = m.get_phonon_dos_by_material_id(mp_id)\n",
    "conv_struc = SpacegroupAnalyzer(structure).get_conventional_standard_structure()\n",
    "symmops = SpacegroupAnalyzer(structure).get_space_group_operations()"
   ]
  },
  {
   "cell_type": "code",
   "execution_count": 10,
   "id": "17cca155",
   "metadata": {},
   "outputs": [
    {
     "data": {
      "application/vnd.jupyter.widget-view+json": {
       "model_id": "e6483739d8964900911060d464d7953c",
       "version_major": 2,
       "version_minor": 0
      },
      "text/plain": [
       "JsmolView(layout=Layout(align_self='stretch', height='400px'))"
      ]
     },
     "execution_count": 10,
     "metadata": {},
     "output_type": "execute_result"
    }
   ],
   "source": [
    "# Sélectionner trois atomes différents dans la structure\n",
    "atoms = [0, 1, 2]  # Par exemple, les trois premiers atomes de la structure\n",
    "\n",
    "# Choisir trois opérations de symétrie (autres que l'identité)\n",
    "symmops = SpacegroupAnalyzer(structure).get_space_group_operations()\n",
    "selected_symmops = symmops[:3]  # Prendre les trois premières opérations de symétrie\n",
    "\n",
    "# Appliquer les opérations de symétrie aux atomes sélectionnés\n",
    "transformed_atoms = []\n",
    "for i, atom_index in enumerate(atoms):\n",
    "    atom = structure[atom_index]\n",
    "    symmop = selected_symmops[i]\n",
    "    transformed_atom = symmop.operate(atom.frac_coords)\n",
    "    transformed_atoms.append(transformed_atom)\n",
    "\n",
    "# Visualiser les résultats avec jupyter-jsmol\n",
    "def view_structure_with_atoms(structure, atoms, transformed_atoms):\n",
    "    view = quick_view(structure)\n",
    "    for i, atom in enumerate(atoms):\n",
    "        view.script(f\"select {atom + 1}; color atom yellow\")\n",
    "    for i, transformed_atom in enumerate(transformed_atoms):\n",
    "        view.script(f\"draw symm{i} {{}}\")\n",
    "        view.script(f\"draw symm{i} {{}}\")\n",
    "        view.script(f\"draw symm{i} {{}}\")\n",
    "    return view\n",
    "\n",
    "view_structure_with_atoms(structure, atoms, transformed_atoms)"
   ]
  },
  {
   "cell_type": "code",
   "execution_count": null,
   "id": "f1c20f40",
   "metadata": {},
   "outputs": [],
   "source": []
  }
 ],
 "metadata": {
  "kernelspec": {
   "display_name": "Python 3 (ipykernel)",
   "language": "python",
   "name": "python3"
  },
  "language_info": {
   "codemirror_mode": {
    "name": "ipython",
    "version": 3
   },
   "file_extension": ".py",
   "mimetype": "text/x-python",
   "name": "python",
   "nbconvert_exporter": "python",
   "pygments_lexer": "ipython3",
   "version": "3.9.13"
  }
 },
 "nbformat": 4,
 "nbformat_minor": 5
}
