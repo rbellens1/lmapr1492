{
 "cells": [
  {
   "cell_type": "code",
   "execution_count": 4,
   "id": "ee8287e4",
   "metadata": {},
   "outputs": [],
   "source": [
    "import numpy as np\n",
    "from mp_api.client import MPRester\n",
    "from pymatgen.core.operations import SymmOp\n",
    "from pymatgen.symmetry.analyzer import SpacegroupAnalyzer\n",
    "from pymatgen.electronic_structure.plotter import BSPlotter\n",
    "from pymatgen.phonon.plotter import PhononBSPlotter\n",
    "from jupyter_jsmol.pymatgen import quick_view\n",
    "from lmapr1492 import plot_brillouin_zone, get_plot_bs, get_plot_dos, get_plot_bs_and_dos, get_branch_wavevectors\n",
    "from plotly.subplots import make_subplots\n",
    "import plotly.graph_objects as go"
   ]
  },
  {
   "cell_type": "code",
   "execution_count": 5,
   "id": "4f09dca1",
   "metadata": {},
   "outputs": [],
   "source": [
    "mp_key = \"YGuF6wLUiS0cPBcPVPZQwERRrYM11mh7\"\n",
    "mp_id = \"mp-22003\""
   ]
  },
  {
   "cell_type": "code",
   "execution_count": 6,
   "id": "7f7d6751",
   "metadata": {},
   "outputs": [
    {
     "data": {
      "application/vnd.jupyter.widget-view+json": {
       "model_id": "3cded25ccdf04444a223c74599a68113",
       "version_major": 2,
       "version_minor": 0
      },
      "text/plain": [
       "Retrieving MaterialsDoc documents:   0%|          | 0/1 [00:00<?, ?it/s]"
      ]
     },
     "metadata": {},
     "output_type": "display_data"
    },
    {
     "data": {
      "application/vnd.jupyter.widget-view+json": {
       "model_id": "c78a1728cccd4ef6b6fdee4a5c373977",
       "version_major": 2,
       "version_minor": 0
      },
      "text/plain": [
       "Retrieving ElectronicStructureDoc documents:   0%|          | 0/1 [00:00<?, ?it/s]"
      ]
     },
     "metadata": {},
     "output_type": "display_data"
    },
    {
     "data": {
      "application/vnd.jupyter.widget-view+json": {
       "model_id": "dff405c94f3945679f4f7c4f39aba646",
       "version_major": 2,
       "version_minor": 0
      },
      "text/plain": [
       "Retrieving ElectronicStructureDoc documents:   0%|          | 0/1 [00:00<?, ?it/s]"
      ]
     },
     "metadata": {},
     "output_type": "display_data"
    },
    {
     "data": {
      "application/vnd.jupyter.widget-view+json": {
       "model_id": "536890974ec84cc39c892b862287cb3b",
       "version_major": 2,
       "version_minor": 0
      },
      "text/plain": [
       "Retrieving PhononBSDOSDoc documents:   0%|          | 0/1 [00:00<?, ?it/s]"
      ]
     },
     "metadata": {},
     "output_type": "display_data"
    },
    {
     "data": {
      "application/vnd.jupyter.widget-view+json": {
       "model_id": "72c607260ca14f4aa8b544bf1ee1113f",
       "version_major": 2,
       "version_minor": 0
      },
      "text/plain": [
       "Retrieving PhononBSDOSDoc documents:   0%|          | 0/1 [00:00<?, ?it/s]"
      ]
     },
     "metadata": {},
     "output_type": "display_data"
    }
   ],
   "source": [
    "with MPRester(mp_key) as m:\n",
    "    structure = m.get_structure_by_material_id(mp_id)\n",
    "    el_bs = m.get_bandstructure_by_material_id(mp_id)\n",
    "    el_dos = m.get_dos_by_material_id(mp_id)\n",
    "    ph_bs = m.get_phonon_bandstructure_by_material_id(mp_id)\n",
    "    ph_dos = m.get_phonon_dos_by_material_id(mp_id)\n",
    "conv_struc = SpacegroupAnalyzer(structure).get_conventional_standard_structure()\n",
    "symmops = SpacegroupAnalyzer(structure).get_space_group_operations()"
   ]
  },
  {
   "cell_type": "code",
   "execution_count": 7,
   "id": "e60a3417",
   "metadata": {},
   "outputs": [
    {
     "name": "stdout",
     "output_type": "stream",
     "text": [
      "Trois premiers pics du diffractogramme :\n",
      "Pic 1:\n",
      "   Angle 2θ = 17.43°\n",
      "   Intensité relative = 1.41\n",
      "   Indices hkl = [{'hkl': (1, 1, 1), 'multiplicity': 2}]\n",
      "   Distance interréticulaire d = 5.0847 Å\n",
      "\n",
      "Pic 2:\n",
      "   Angle 2θ = 29.31°\n",
      "   Intensité relative = 8.89\n",
      "   Indices hkl = [{'hkl': (1, 0, 0), 'multiplicity': 6}]\n",
      "   Distance interréticulaire d = 3.0452 Å\n",
      "\n",
      "Pic 3:\n",
      "   Angle 2θ = 31.05°\n",
      "   Intensité relative = 100.00\n",
      "   Indices hkl = [{'hkl': (1, 1, 0), 'multiplicity': 6}]\n",
      "   Distance interréticulaire d = 2.8780 Å\n",
      "\n"
     ]
    }
   ],
   "source": [
    "from pymatgen.analysis.diffraction.xrd import XRDCalculator\n",
    "\n",
    "# Longueur d'onde Cu Kα en Å\n",
    "wavelength = 1.54060\n",
    "\n",
    "# Créer un calculateur de diffractogramme\n",
    "xrd_calculator = XRDCalculator(wavelength=wavelength)\n",
    "\n",
    "# Calculer le diffractogramme\n",
    "pattern = xrd_calculator.get_pattern(structure)\n",
    "\n",
    "# Afficher les trois premiers pics\n",
    "print(\"Trois premiers pics du diffractogramme :\")\n",
    "for i in range(3):\n",
    "    peak = pattern.x[i]  # Angle 2θ en degrés\n",
    "    intensity = pattern.y[i]  # Intensité relative\n",
    "    hkl = pattern.hkls[i]  # Indices hkl associés\n",
    "    d_spacing = pattern.d_hkls[i]  # Distance interréticulaire en Å\n",
    "    \n",
    "    print(f\"Pic {i + 1}:\")\n",
    "    print(f\"   Angle 2θ = {peak:.2f}°\")\n",
    "    print(f\"   Intensité relative = {intensity:.2f}\")\n",
    "    print(f\"   Indices hkl = {hkl}\")\n",
    "    print(f\"   Distance interréticulaire d = {d_spacing:.4f} Å\")\n",
    "    print()"
   ]
  },
  {
   "cell_type": "code",
   "execution_count": null,
   "id": "65f9c7f1",
   "metadata": {},
   "outputs": [],
   "source": []
  }
 ],
 "metadata": {
  "kernelspec": {
   "display_name": "Python 3 (ipykernel)",
   "language": "python",
   "name": "python3"
  },
  "language_info": {
   "codemirror_mode": {
    "name": "ipython",
    "version": 3
   },
   "file_extension": ".py",
   "mimetype": "text/x-python",
   "name": "python",
   "nbconvert_exporter": "python",
   "pygments_lexer": "ipython3",
   "version": "3.9.13"
  }
 },
 "nbformat": 4,
 "nbformat_minor": 5
}
