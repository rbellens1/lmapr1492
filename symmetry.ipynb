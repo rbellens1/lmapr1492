{
 "cells": [
  {
   "cell_type": "code",
   "execution_count": 9,
   "id": "1f359985",
   "metadata": {},
   "outputs": [],
   "source": [
    "import numpy as np\n",
    "from mp_api.client import MPRester\n",
    "from pymatgen.core.operations import SymmOp\n",
    "from pymatgen.symmetry.analyzer import SpacegroupAnalyzer\n",
    "from pymatgen.electronic_structure.plotter import BSPlotter\n",
    "from pymatgen.phonon.plotter import PhononBSPlotter\n",
    "from jupyter_jsmol.pymatgen import quick_view\n",
    "from lmapr1492 import plot_brillouin_zone, get_plot_bs, get_plot_dos, get_plot_bs_and_dos, get_branch_wavevectors\n",
    "from plotly.subplots import make_subplots\n",
    "import plotly.graph_objects as go"
   ]
  },
  {
   "cell_type": "code",
   "execution_count": 10,
   "id": "aed15ec1",
   "metadata": {},
   "outputs": [],
   "source": [
    "mp_key = \"YGuF6wLUiS0cPBcPVPZQwERRrYM11mh7\"\n",
    "mp_id = \"mp-22003\""
   ]
  },
  {
   "cell_type": "code",
   "execution_count": 26,
   "id": "a3506d4d",
   "metadata": {},
   "outputs": [
    {
     "data": {
      "application/vnd.jupyter.widget-view+json": {
       "model_id": "53ba975c7e1940b9b960ad0e3df14f8b",
       "version_major": 2,
       "version_minor": 0
      },
      "text/plain": [
       "Retrieving MaterialsDoc documents:   0%|          | 0/1 [00:00<?, ?it/s]"
      ]
     },
     "metadata": {},
     "output_type": "display_data"
    },
    {
     "name": "stdout",
     "output_type": "stream",
     "text": [
      "24\n"
     ]
    }
   ],
   "source": [
    "with MPRester(mp_key) as m:\n",
    "    structure = m.get_structure_by_material_id(mp_id)\n",
    "    \n",
    "analyser = SpacegroupAnalyzer(structure)\n",
    "symm_ops = analyser.get_symmetry_operations()\n",
    "conv_struc = analyser.get_conventional_standard_structure()\n",
    "print(len(symm_ops))"
   ]
  },
  {
   "cell_type": "code",
   "execution_count": 109,
   "id": "17cca155",
   "metadata": {},
   "outputs": [
    {
     "name": "stdout",
     "output_type": "stream",
     "text": [
      "12\n",
      "[PeriodicSite: Na (0.0, 0.0, 0.0) [0.0, 0.0, 0.0], PeriodicSite: Na (1.794, -1.036, 5.085) [0.6667, 0.3333, 0.3333], PeriodicSite: Na (1.794, 1.036, 10.17) [0.3333, 0.6667, 0.6667], PeriodicSite: N (1.794, -1.036, 13.89) [0.6667, 0.3333, 0.9106], PeriodicSite: N (1.794, -1.036, 12.71) [0.6667, 0.3333, 0.8333], PeriodicSite: N (1.794, -1.036, 11.53) [0.6667, 0.3333, 0.7561], PeriodicSite: N (1.794, 1.036, 3.721) [0.3333, 0.6667, 0.2439], PeriodicSite: N (1.794, 1.036, 2.542) [0.3333, 0.6667, 0.1667], PeriodicSite: N (1.794, 1.036, 1.364) [0.3333, 0.6667, 0.08939], PeriodicSite: N (0.0, 0.0, 8.806) [0.0, 0.0, 0.5773], PeriodicSite: N (3.588, 4.441e-16, 7.627) [1.0, 1.0, 0.5], PeriodicSite: N (0.0, 0.0, 6.448) [0.0, 0.0, 0.4227]]\n"
     ]
    }
   ],
   "source": [
    "selected_ops = [symm_ops[6], symm_ops[8], symm_ops[2]] # choix des opérations\n",
    "sites = conv_struc.sites\n",
    "selected_sites = [sites[4],sites[1],sites[2]] # choix des atomes (N,Na,Na)\n",
    "print(len(sites))\n",
    "print(sites)"
   ]
  },
  {
   "cell_type": "code",
   "execution_count": 111,
   "id": "f1c20f40",
   "metadata": {},
   "outputs": [
    {
     "name": "stdout",
     "output_type": "stream",
     "text": [
      "Rot:\n",
      "[[ 0.  0. -1.]\n",
      " [-1.  0.  0.]\n",
      " [ 0. -1.  0.]]\n",
      "tau\n",
      "[0. 0. 0.]\n",
      "[0.66666667 0.33333333 0.83333333]\n",
      "[-0.83333333 -0.66666667 -0.33333333]\n"
     ]
    },
    {
     "data": {
      "application/vnd.jupyter.widget-view+json": {
       "model_id": "d2ef17b1121243808507d7f29b23e298",
       "version_major": 2,
       "version_minor": 0
      },
      "text/plain": [
       "JsmolView(layout=Layout(align_self='stretch', height='400px'))"
      ]
     },
     "metadata": {},
     "output_type": "display_data"
    }
   ],
   "source": [
    "N1 = selected_sites[0]\n",
    "operation1 = selected_ops[0]\n",
    "print(operation1) # rotation 120° -> det A = 1 -> conserve la chiralité\n",
    "print(N1.frac_coords)\n",
    "print(operation1.operate(N1.frac_coords))\n",
    "\n",
    "view1 = quick_view(conv_struc,supercell=[1,1,1])\n",
    "display(view1)\n",
    "view1.script('draw symop 7 {atomno = 5}; select atomno=5; label on; color red')"
   ]
  },
  {
   "cell_type": "code",
   "execution_count": 91,
   "id": "3710d25b",
   "metadata": {},
   "outputs": [
    {
     "name": "stdout",
     "output_type": "stream",
     "text": [
      "Rot:\n",
      "[[0. 1. 0.]\n",
      " [0. 0. 1.]\n",
      " [1. 0. 0.]]\n",
      "tau\n",
      "[0. 0. 0.]\n",
      "[0.66666667 0.33333333 0.33333333]\n",
      "[0.33333333 0.33333333 0.66666667]\n"
     ]
    },
    {
     "data": {
      "application/vnd.jupyter.widget-view+json": {
       "model_id": "31592e10c1854175bf226f09767a1338",
       "version_major": 2,
       "version_minor": 0
      },
      "text/plain": [
       "JsmolView(layout=Layout(align_self='stretch', height='400px'))"
      ]
     },
     "metadata": {},
     "output_type": "display_data"
    }
   ],
   "source": [
    "Na1 = selected_sites[1]\n",
    "operation2 = selected_ops[1]\n",
    "print(operation2) # roto-réflexion (réflexion + rotation de 120°) -> det A = -1 -> inverse la chiralité\n",
    "print(Na1.frac_coords)\n",
    "print(operation2.operate(Na1.frac_coords))\n",
    "\n",
    "view2 = quick_view(conv_struc,supercell=[1,1,1])\n",
    "display(view2)\n",
    "view2.script('draw symop 9 {atomno = 2}; select atomno=2; label on; color red')"
   ]
  },
  {
   "cell_type": "code",
   "execution_count": 100,
   "id": "3b5a737c",
   "metadata": {},
   "outputs": [
    {
     "name": "stdout",
     "output_type": "stream",
     "text": [
      "Rot:\n",
      "[[-1.  0.  0.]\n",
      " [ 0. -1.  0.]\n",
      " [ 0.  0. -1.]]\n",
      "tau\n",
      "[0. 0. 0.]\n",
      "[0.33333333 0.66666667 0.66666667]\n",
      "[-0.33333333 -0.66666667 -0.66666667]\n"
     ]
    },
    {
     "data": {
      "application/vnd.jupyter.widget-view+json": {
       "model_id": "e845f44c4f7c47f29b8e131f5e763e8b",
       "version_major": 2,
       "version_minor": 0
      },
      "text/plain": [
       "JsmolView(layout=Layout(align_self='stretch', height='400px'))"
      ]
     },
     "metadata": {},
     "output_type": "display_data"
    }
   ],
   "source": [
    "Na2 = selected_sites[2]\n",
    "operation3 = selected_ops[2]\n",
    "print(operation3) # inversion -> det A = -1 -> inverse la chiralité\n",
    "print(Na2.frac_coords)\n",
    "print(operation3.operate(Na2.frac_coords))\n",
    "\n",
    "view3 = quick_view(conv_struc,supercell=[1,1,1])\n",
    "display(view3)\n",
    "view3.script('draw symop 3 {atomno = 3}; select atomno=3; label on; color red')"
   ]
  },
  {
   "cell_type": "code",
   "execution_count": null,
   "id": "547f52bc",
   "metadata": {},
   "outputs": [],
   "source": []
  }
 ],
 "metadata": {
  "kernelspec": {
   "display_name": "Python 3 (ipykernel)",
   "language": "python",
   "name": "python3"
  },
  "language_info": {
   "codemirror_mode": {
    "name": "ipython",
    "version": 3
   },
   "file_extension": ".py",
   "mimetype": "text/x-python",
   "name": "python",
   "nbconvert_exporter": "python",
   "pygments_lexer": "ipython3",
   "version": "3.9.13"
  }
 },
 "nbformat": 4,
 "nbformat_minor": 5
}
