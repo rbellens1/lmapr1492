{
 "cells": [
  {
   "cell_type": "code",
   "execution_count": 1,
   "id": "d7a790f5",
   "metadata": {
    "scrolled": true
   },
   "outputs": [],
   "source": [
    "\n",
    "import numpy as np\n",
    "from mp_api.client import MPRester\n",
    "from pymatgen.core.operations import SymmOp\n",
    "from pymatgen.symmetry.analyzer import SpacegroupAnalyzer\n",
    "from pymatgen.electronic_structure.plotter import BSPlotter\n",
    "from pymatgen.phonon.plotter import PhononBSPlotter\n",
    "from jupyter_jsmol.pymatgen import quick_view\n",
    "from lmapr1492 import plot_brillouin_zone, get_plot_bs, get_plot_dos, get_plot_bs_and_dos, get_branch_wavevectors\n",
    "from plotly.subplots import make_subplots\n",
    "import plotly.graph_objects as go"
   ]
  },
  {
   "cell_type": "code",
   "execution_count": 2,
   "id": "65c4103c",
   "metadata": {},
   "outputs": [],
   "source": [
    "mp_key = \"YGuF6wLUiS0cPBcPVPZQwERRrYM11mh7\"\n",
    "mp_id = \"mp-22003\""
   ]
  },
  {
   "cell_type": "code",
   "execution_count": 4,
   "id": "1439780a",
   "metadata": {
    "scrolled": true
   },
   "outputs": [
    {
     "data": {
      "application/vnd.jupyter.widget-view+json": {
       "model_id": "e571d7b759a24b0ea721e5baca69ede8",
       "version_major": 2,
       "version_minor": 0
      },
      "text/plain": [
       "Retrieving MaterialsDoc documents:   0%|          | 0/1 [00:00<?, ?it/s]"
      ]
     },
     "metadata": {},
     "output_type": "display_data"
    },
    {
     "data": {
      "application/vnd.jupyter.widget-view+json": {
       "model_id": "b68808089f474e96b816a494c0c7a93d",
       "version_major": 2,
       "version_minor": 0
      },
      "text/plain": [
       "Retrieving ElectronicStructureDoc documents:   0%|          | 0/1 [00:00<?, ?it/s]"
      ]
     },
     "metadata": {},
     "output_type": "display_data"
    },
    {
     "data": {
      "application/vnd.jupyter.widget-view+json": {
       "model_id": "1fe3d631eab14e328fdbc21a792bd9f2",
       "version_major": 2,
       "version_minor": 0
      },
      "text/plain": [
       "Retrieving ElectronicStructureDoc documents:   0%|          | 0/1 [00:00<?, ?it/s]"
      ]
     },
     "metadata": {},
     "output_type": "display_data"
    },
    {
     "data": {
      "application/vnd.jupyter.widget-view+json": {
       "model_id": "1a9406f7426d416287893b978437ad51",
       "version_major": 2,
       "version_minor": 0
      },
      "text/plain": [
       "Retrieving PhononBSDOSDoc documents:   0%|          | 0/1 [00:00<?, ?it/s]"
      ]
     },
     "metadata": {},
     "output_type": "display_data"
    },
    {
     "data": {
      "application/vnd.jupyter.widget-view+json": {
       "model_id": "7d1f95c0cb784a63b56ab2f3610c8cf7",
       "version_major": 2,
       "version_minor": 0
      },
      "text/plain": [
       "Retrieving PhononBSDOSDoc documents:   0%|          | 0/1 [00:00<?, ?it/s]"
      ]
     },
     "metadata": {},
     "output_type": "display_data"
    }
   ],
   "source": [
    "with MPRester(mp_key) as m:\n",
    "    structure = m.get_structure_by_material_id(mp_id)\n",
    "    el_bs = m.get_bandstructure_by_material_id(mp_id)\n",
    "    el_dos = m.get_dos_by_material_id(mp_id)\n",
    "    ph_bs = m.get_phonon_bandstructure_by_material_id(mp_id)\n",
    "    ph_dos = m.get_phonon_dos_by_material_id(mp_id)\n",
    "conv_struc = SpacegroupAnalyzer(structure).get_conventional_standard_structure()\n",
    "symmops = SpacegroupAnalyzer(structure).get_space_group_operations()"
   ]
  },
  {
   "cell_type": "markdown",
   "id": "6dc4144a",
   "metadata": {},
   "source": [
    "# Structure symmetry"
   ]
  },
  {
   "cell_type": "code",
   "execution_count": 5,
   "id": "49756adb",
   "metadata": {},
   "outputs": [
    {
     "name": "stdout",
     "output_type": "stream",
     "text": [
      "Vecteurs de base du réseau direct:\n",
      "[[3.41309104 0.01722484 4.30086684]\n",
      " [1.51130613 3.0603007  4.30086684]\n",
      " [0.02756099 0.01722484 5.49052708]]\n",
      "Vecteurs de base du réseau réciproque:\n",
      "[[ 1.85362361 -0.90631717 -0.00646141]\n",
      " [-0.0022706   2.06332915 -0.00646166]\n",
      " [-1.450211   -0.90631635  1.15449129]]\n",
      "Type de maille: rhombohedral\n",
      "Système cristallin: trigonal\n",
      "Groupe ponctuel: -3m\n"
     ]
    }
   ],
   "source": [
    "analyzer = SpacegroupAnalyzer(structure)\n",
    "\n",
    "lattice_vectors = structure.lattice.matrix\n",
    "print(\"Vecteurs de base du réseau direct:\")\n",
    "print(lattice_vectors)\n",
    "\n",
    "reciprocal_lattice_vectors = structure.lattice.reciprocal_lattice.matrix\n",
    "print(\"Vecteurs de base du réseau réciproque:\")\n",
    "print(reciprocal_lattice_vectors)\n",
    "\n",
    "lattice_type = analyzer.get_lattice_type()\n",
    "print(\"Type de maille:\", lattice_type)\n",
    "\n",
    "crystal_system = analyzer.get_crystal_system()\n",
    "print(\"Système cristallin:\", crystal_system)\n",
    "\n",
    "point_group = analyzer.get_point_group_symbol()\n",
    "print(\"Groupe ponctuel:\", point_group)"
   ]
  },
  {
   "cell_type": "code",
   "execution_count": null,
   "id": "a59557a4",
   "metadata": {},
   "outputs": [],
   "source": []
  }
 ],
 "metadata": {
  "kernelspec": {
   "display_name": "Python 3 (ipykernel)",
   "language": "python",
   "name": "python3"
  },
  "language_info": {
   "codemirror_mode": {
    "name": "ipython",
    "version": 3
   },
   "file_extension": ".py",
   "mimetype": "text/x-python",
   "name": "python",
   "nbconvert_exporter": "python",
   "pygments_lexer": "ipython3",
   "version": "3.9.13"
  }
 },
 "nbformat": 4,
 "nbformat_minor": 5
}
